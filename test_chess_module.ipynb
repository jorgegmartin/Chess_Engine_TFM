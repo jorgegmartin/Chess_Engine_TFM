{
 "cells": [
  {
   "cell_type": "code",
   "execution_count": 2,
   "metadata": {},
   "outputs": [],
   "source": [
    "import chess\n",
    "import chess.engine\n",
    "import random\n",
    "import numpy as np\n",
    "import pandas as pd"
   ]
  },
  {
   "cell_type": "code",
   "execution_count": 25,
   "metadata": {},
   "outputs": [],
   "source": [
    "df = pd.read_csv('data/games_processed_sample.csv').drop('Unnamed: 0', axis=1)"
   ]
  },
  {
   "cell_type": "code",
   "execution_count": null,
   "metadata": {},
   "outputs": [],
   "source": [
    "def clean_game(df, game=0):\n",
    "    df['Game'][game]\n",
    "    \n",
    "    pass\n"
   ]
  },
  {
   "cell_type": "code",
   "execution_count": 28,
   "metadata": {},
   "outputs": [
    {
     "data": {
      "text/html": [
       "<div>\n",
       "<style scoped>\n",
       "    .dataframe tbody tr th:only-of-type {\n",
       "        vertical-align: middle;\n",
       "    }\n",
       "\n",
       "    .dataframe tbody tr th {\n",
       "        vertical-align: top;\n",
       "    }\n",
       "\n",
       "    .dataframe thead th {\n",
       "        text-align: right;\n",
       "    }\n",
       "</style>\n",
       "<table border=\"1\" class=\"dataframe\">\n",
       "  <thead>\n",
       "    <tr style=\"text-align: right;\">\n",
       "      <th></th>\n",
       "      <th>Date</th>\n",
       "      <th>Result</th>\n",
       "      <th>UTCTime</th>\n",
       "      <th>WHiteElo</th>\n",
       "      <th>BlackElo</th>\n",
       "      <th>WhiteRatingDiff</th>\n",
       "      <th>Opening</th>\n",
       "      <th>TimeControl</th>\n",
       "      <th>Termination</th>\n",
       "      <th>Game</th>\n",
       "      <th>Bullet</th>\n",
       "      <th>Blitz</th>\n",
       "      <th>Rapid</th>\n",
       "      <th>Classical</th>\n",
       "    </tr>\n",
       "  </thead>\n",
       "  <tbody>\n",
       "    <tr>\n",
       "      <th>0</th>\n",
       "      <td>2020-02-01</td>\n",
       "      <td>1-0</td>\n",
       "      <td>00:00:07</td>\n",
       "      <td>1791</td>\n",
       "      <td>1829</td>\n",
       "      <td>9</td>\n",
       "      <td>Queen's Gambit Refused: Marshall Defense</td>\n",
       "      <td>180+2</td>\n",
       "      <td>Normal</td>\n",
       "      <td>1. d4 { [%eval 0.25] [%clk 0:03:00] } 1... d5 ...</td>\n",
       "      <td>0</td>\n",
       "      <td>1</td>\n",
       "      <td>0</td>\n",
       "      <td>0</td>\n",
       "    </tr>\n",
       "    <tr>\n",
       "      <th>1</th>\n",
       "      <td>2020-02-01</td>\n",
       "      <td>1-0</td>\n",
       "      <td>00:00:11</td>\n",
       "      <td>2120</td>\n",
       "      <td>2104</td>\n",
       "      <td>6</td>\n",
       "      <td>Sicilian Defense: Smith-Morra Gambit Accepted,...</td>\n",
       "      <td>300+0</td>\n",
       "      <td>Normal</td>\n",
       "      <td>1. e4 { [%eval 0.24] [%clk 0:05:00] } 1... c5 ...</td>\n",
       "      <td>0</td>\n",
       "      <td>1</td>\n",
       "      <td>0</td>\n",
       "      <td>0</td>\n",
       "    </tr>\n",
       "    <tr>\n",
       "      <th>2</th>\n",
       "      <td>2020-02-01</td>\n",
       "      <td>1-0</td>\n",
       "      <td>00:00:12</td>\n",
       "      <td>1457</td>\n",
       "      <td>1521</td>\n",
       "      <td>9</td>\n",
       "      <td>Sicilian Defense: Old Sicilian</td>\n",
       "      <td>600+0</td>\n",
       "      <td>Normal</td>\n",
       "      <td>1. e4 { [%eval 0.24] [%clk 0:10:00] } 1... c5 ...</td>\n",
       "      <td>0</td>\n",
       "      <td>0</td>\n",
       "      <td>1</td>\n",
       "      <td>0</td>\n",
       "    </tr>\n",
       "    <tr>\n",
       "      <th>3</th>\n",
       "      <td>2020-02-01</td>\n",
       "      <td>1-0</td>\n",
       "      <td>00:00:12</td>\n",
       "      <td>2296</td>\n",
       "      <td>2303</td>\n",
       "      <td>30</td>\n",
       "      <td>Queen's Pawn Game: London System</td>\n",
       "      <td>600+0</td>\n",
       "      <td>Normal</td>\n",
       "      <td>1. d4 { [%eval 0.25] [%clk 0:10:00] } 1... Nf6...</td>\n",
       "      <td>0</td>\n",
       "      <td>0</td>\n",
       "      <td>1</td>\n",
       "      <td>0</td>\n",
       "    </tr>\n",
       "    <tr>\n",
       "      <th>4</th>\n",
       "      <td>2020-02-01</td>\n",
       "      <td>0-1</td>\n",
       "      <td>00:00:12</td>\n",
       "      <td>1547</td>\n",
       "      <td>1560</td>\n",
       "      <td>-12</td>\n",
       "      <td>Queen's Pawn Game: Mason Attack</td>\n",
       "      <td>600+0</td>\n",
       "      <td>Normal</td>\n",
       "      <td>1. d4 { [%eval 0.25] [%clk 0:10:00] } 1... d5 ...</td>\n",
       "      <td>0</td>\n",
       "      <td>0</td>\n",
       "      <td>1</td>\n",
       "      <td>0</td>\n",
       "    </tr>\n",
       "    <tr>\n",
       "      <th>5</th>\n",
       "      <td>2020-02-01</td>\n",
       "      <td>1-0</td>\n",
       "      <td>00:00:14</td>\n",
       "      <td>2206</td>\n",
       "      <td>2305</td>\n",
       "      <td>8</td>\n",
       "      <td>Sicilian Defense: Lasker-Pelikan Variation, Sv...</td>\n",
       "      <td>900+15</td>\n",
       "      <td>Normal</td>\n",
       "      <td>1. e4 { [%eval 0.24] [%clk 0:15:00] } 1... c5 ...</td>\n",
       "      <td>0</td>\n",
       "      <td>0</td>\n",
       "      <td>0</td>\n",
       "      <td>1</td>\n",
       "    </tr>\n",
       "  </tbody>\n",
       "</table>\n",
       "</div>"
      ],
      "text/plain": [
       "         Date Result   UTCTime  WHiteElo  BlackElo  WhiteRatingDiff  \\\n",
       "0  2020-02-01    1-0  00:00:07      1791      1829                9   \n",
       "1  2020-02-01    1-0  00:00:11      2120      2104                6   \n",
       "2  2020-02-01    1-0  00:00:12      1457      1521                9   \n",
       "3  2020-02-01    1-0  00:00:12      2296      2303               30   \n",
       "4  2020-02-01    0-1  00:00:12      1547      1560              -12   \n",
       "5  2020-02-01    1-0  00:00:14      2206      2305                8   \n",
       "\n",
       "                                             Opening TimeControl Termination  \\\n",
       "0           Queen's Gambit Refused: Marshall Defense       180+2      Normal   \n",
       "1  Sicilian Defense: Smith-Morra Gambit Accepted,...       300+0      Normal   \n",
       "2                     Sicilian Defense: Old Sicilian       600+0      Normal   \n",
       "3                   Queen's Pawn Game: London System       600+0      Normal   \n",
       "4                    Queen's Pawn Game: Mason Attack       600+0      Normal   \n",
       "5  Sicilian Defense: Lasker-Pelikan Variation, Sv...      900+15      Normal   \n",
       "\n",
       "                                                Game  Bullet  Blitz  Rapid  \\\n",
       "0  1. d4 { [%eval 0.25] [%clk 0:03:00] } 1... d5 ...       0      1      0   \n",
       "1  1. e4 { [%eval 0.24] [%clk 0:05:00] } 1... c5 ...       0      1      0   \n",
       "2  1. e4 { [%eval 0.24] [%clk 0:10:00] } 1... c5 ...       0      0      1   \n",
       "3  1. d4 { [%eval 0.25] [%clk 0:10:00] } 1... Nf6...       0      0      1   \n",
       "4  1. d4 { [%eval 0.25] [%clk 0:10:00] } 1... d5 ...       0      0      1   \n",
       "5  1. e4 { [%eval 0.24] [%clk 0:15:00] } 1... c5 ...       0      0      0   \n",
       "\n",
       "   Classical  \n",
       "0          0  \n",
       "1          0  \n",
       "2          0  \n",
       "3          0  \n",
       "4          0  \n",
       "5          1  "
      ]
     },
     "execution_count": 28,
     "metadata": {},
     "output_type": "execute_result"
    }
   ],
   "source": [
    "df"
   ]
  },
  {
   "cell_type": "code",
   "execution_count": null,
   "metadata": {},
   "outputs": [],
   "source": [
    "rows = ['a', 'b', 'c', 'd', 'e', 'f', 'g', 'h']\n",
    "columns = ['1', '2', '3', '4', '5', '6', '7', '8']"
   ]
  },
  {
   "cell_type": "code",
   "execution_count": 4,
   "metadata": {},
   "outputs": [
    {
     "name": "stdout",
     "output_type": "stream",
     "text": [
      "r . b q k b . r\n",
      "p p p p . Q p p\n",
      ". . n . . n . .\n",
      ". . . . p . . .\n",
      ". . B . P . . .\n",
      ". . . . . . . .\n",
      "P P P P . P P P\n",
      "R N B . K . N R\n"
     ]
    }
   ],
   "source": [
    "board = chess.Board(\"r1bqkb1r/pppp1Qpp/2n2n2/4p3/2B1P3/8/PPPP1PPP/RNB1K1NR b KQkq - 0 4\")\n",
    "print(board)"
   ]
  },
  {
   "cell_type": "code",
   "execution_count": 7,
   "metadata": {},
   "outputs": [
    {
     "data": {
      "text/plain": [
       "Move.from_uci('e2e4')"
      ]
     },
     "execution_count": 7,
     "metadata": {},
     "output_type": "execute_result"
    }
   ],
   "source": [
    "board = chess.Board()\n",
    "board.parse_uci('e2e4')"
   ]
  },
  {
   "cell_type": "code",
   "execution_count": 9,
   "metadata": {},
   "outputs": [
    {
     "data": {
      "text/plain": [
       "'g1f3'"
      ]
     },
     "execution_count": 9,
     "metadata": {},
     "output_type": "execute_result"
    }
   ],
   "source": [
    "str(a)"
   ]
  },
  {
   "cell_type": "code",
   "execution_count": 8,
   "metadata": {},
   "outputs": [],
   "source": [
    "a= board.parse_san('Nf3')"
   ]
  },
  {
   "cell_type": "code",
   "execution_count": 10,
   "metadata": {},
   "outputs": [
    {
     "data": {
      "text/plain": [
       "'1. e4 e5 2. Nf3'"
      ]
     },
     "execution_count": 10,
     "metadata": {},
     "output_type": "execute_result"
    }
   ],
   "source": [
    "board.variation_san([chess.Move.from_uci(m) for m in [\"e2e4\", \"e7e5\", \"g1f3\"]])"
   ]
  },
  {
   "cell_type": "code",
   "execution_count": 13,
   "metadata": {},
   "outputs": [],
   "source": [
    "# Methods to check after every move\n",
    "# \n",
    "\n",
    "board.is_check()\n",
    "board.can_claim_threefold_repetition()\n",
    "board.can_claim_fifty_moves()\n",
    "board.can_claim_draw()\n",
    "board.is_stalemate()\n",
    "board.is_insufficient_material()\n",
    "board.outcome()"
   ]
  },
  {
   "cell_type": "code",
   "execution_count": 19,
   "metadata": {},
   "outputs": [
    {
     "data": {
      "text/plain": [
       "'r n b q k b n r\\np p p p p p p p\\n. . . . . . . .\\n. . . . . . . .\\n. . . . P . . .\\n. . . . . . . .\\nP P P P . P P P\\nR N B Q K B N R'"
      ]
     },
     "execution_count": 19,
     "metadata": {},
     "output_type": "execute_result"
    }
   ],
   "source": [
    "str(board)"
   ]
  },
  {
   "cell_type": "code",
   "execution_count": 35,
   "metadata": {},
   "outputs": [
    {
     "data": {
      "text/plain": [
       "Move.from_uci('e7e5')"
      ]
     },
     "execution_count": 35,
     "metadata": {},
     "output_type": "execute_result"
    }
   ],
   "source": [
    "board.push_uci('e7e5')"
   ]
  },
  {
   "cell_type": "code",
   "execution_count": 23,
   "metadata": {},
   "outputs": [
    {
     "data": {
      "text/plain": [
       "'rnbqkbnr/pppppppp/8/8/4P3/8/PPPP1PPP/RNBQKBNR b KQkq - 0 1'"
      ]
     },
     "execution_count": 23,
     "metadata": {},
     "output_type": "execute_result"
    }
   ],
   "source": [
    "str(board.fen())"
   ]
  },
  {
   "cell_type": "code",
   "execution_count": 41,
   "metadata": {},
   "outputs": [
    {
     "ename": "AttributeError",
     "evalue": "'Board' object has no attribute 'chess'",
     "output_type": "error",
     "traceback": [
      "\u001b[0;31m---------------------------------------------------------------------------\u001b[0m",
      "\u001b[0;31mAttributeError\u001b[0m                            Traceback (most recent call last)",
      "\u001b[1;32m/home/dsc/Data_Science_Projects/Chess_Engine_TFM/test_chess_module.ipynb Cell 15'\u001b[0m in \u001b[0;36m<cell line: 4>\u001b[0;34m()\u001b[0m\n\u001b[1;32m      <a href='vscode-notebook-cell:/home/dsc/Data_Science_Projects/Chess_Engine_TFM/test_chess_module.ipynb#ch0000024?line=0'>1</a>\u001b[0m \u001b[39m# comprobacion del turno\u001b[39;00m\n\u001b[1;32m      <a href='vscode-notebook-cell:/home/dsc/Data_Science_Projects/Chess_Engine_TFM/test_chess_module.ipynb#ch0000024?line=1'>2</a>\u001b[0m \u001b[39m# aqui podriamos meter un indicador de quien tiene que mover en la GUI\u001b[39;00m\n\u001b[0;32m----> <a href='vscode-notebook-cell:/home/dsc/Data_Science_Projects/Chess_Engine_TFM/test_chess_module.ipynb#ch0000024?line=3'>4</a>\u001b[0m board\u001b[39m.\u001b[39;49mchess\u001b[39m.\u001b[39mBLACK\n",
      "\u001b[0;31mAttributeError\u001b[0m: 'Board' object has no attribute 'chess'"
     ]
    }
   ],
   "source": [
    "# comprobacion del turno\n",
    "# aqui podriamos meter un indicador de quien tiene que mover en la GUI\n",
    "\n",
    "board.chess.BLACK"
   ]
  },
  {
   "cell_type": "code",
   "execution_count": 51,
   "metadata": {},
   "outputs": [],
   "source": [
    "a= 'A'"
   ]
  },
  {
   "cell_type": "code",
   "execution_count": 52,
   "metadata": {},
   "outputs": [
    {
     "data": {
      "text/plain": [
       "True"
      ]
     },
     "execution_count": 52,
     "metadata": {},
     "output_type": "execute_result"
    }
   ],
   "source": [
    "a.isupper()"
   ]
  },
  {
   "cell_type": "code",
   "execution_count": null,
   "metadata": {},
   "outputs": [],
   "source": []
  },
  {
   "cell_type": "code",
   "execution_count": null,
   "metadata": {},
   "outputs": [],
   "source": []
  },
  {
   "cell_type": "code",
   "execution_count": null,
   "metadata": {},
   "outputs": [],
   "source": []
  },
  {
   "cell_type": "code",
   "execution_count": null,
   "metadata": {},
   "outputs": [],
   "source": []
  },
  {
   "cell_type": "code",
   "execution_count": null,
   "metadata": {},
   "outputs": [],
   "source": []
  },
  {
   "cell_type": "code",
   "execution_count": 42,
   "metadata": {},
   "outputs": [
    {
     "data": {
      "text/plain": [
       "{63: Piece.from_symbol('r'),\n",
       " 62: Piece.from_symbol('n'),\n",
       " 61: Piece.from_symbol('b'),\n",
       " 60: Piece.from_symbol('k'),\n",
       " 59: Piece.from_symbol('q'),\n",
       " 58: Piece.from_symbol('b'),\n",
       " 57: Piece.from_symbol('n'),\n",
       " 56: Piece.from_symbol('r'),\n",
       " 55: Piece.from_symbol('p'),\n",
       " 54: Piece.from_symbol('p'),\n",
       " 53: Piece.from_symbol('p'),\n",
       " 51: Piece.from_symbol('p'),\n",
       " 50: Piece.from_symbol('p'),\n",
       " 49: Piece.from_symbol('p'),\n",
       " 48: Piece.from_symbol('p'),\n",
       " 36: Piece.from_symbol('p'),\n",
       " 28: Piece.from_symbol('P'),\n",
       " 15: Piece.from_symbol('P'),\n",
       " 14: Piece.from_symbol('P'),\n",
       " 13: Piece.from_symbol('P'),\n",
       " 11: Piece.from_symbol('P'),\n",
       " 10: Piece.from_symbol('P'),\n",
       " 9: Piece.from_symbol('P'),\n",
       " 8: Piece.from_symbol('P'),\n",
       " 7: Piece.from_symbol('R'),\n",
       " 6: Piece.from_symbol('N'),\n",
       " 5: Piece.from_symbol('B'),\n",
       " 4: Piece.from_symbol('K'),\n",
       " 3: Piece.from_symbol('Q'),\n",
       " 2: Piece.from_symbol('B'),\n",
       " 1: Piece.from_symbol('N'),\n",
       " 0: Piece.from_symbol('R')}"
      ]
     },
     "execution_count": 42,
     "metadata": {},
     "output_type": "execute_result"
    }
   ],
   "source": [
    "board.piece_map()"
   ]
  },
  {
   "cell_type": "code",
   "execution_count": 37,
   "metadata": {},
   "outputs": [
    {
     "name": "stdout",
     "output_type": "stream",
     "text": [
      "r n b q k b n r\n",
      "p p p p . p p p\n",
      ". . . . . . . .\n",
      ". . . . p . . .\n",
      ". . . . P . . .\n",
      ". . . . . . . .\n",
      "P P P P . P P P\n",
      "R N B Q K B N R\n"
     ]
    }
   ],
   "source": [
    "print(board)"
   ]
  },
  {
   "cell_type": "code",
   "execution_count": 30,
   "metadata": {},
   "outputs": [
    {
     "data": {
      "text/plain": [
       "'rnbqkbnr/pppppppp/8/8/4P3/8/PPPP1PPP/RNBQKBNR b HAha - 0 1'"
      ]
     },
     "execution_count": 30,
     "metadata": {},
     "output_type": "execute_result"
    }
   ],
   "source": [
    "board.shredder_fen()"
   ]
  },
  {
   "cell_type": "markdown",
   "metadata": {},
   "source": [
    "Creacion de la GUI:\n",
    "\n",
    "- Generacion del tablero\n",
    "- Generacion de las piezas\n",
    "- Boton de inicio\n",
    "- Boton de seleccion de color\n",
    "- Boton de resign\n",
    "\n",
    "LISTA DE PASOS:\n",
    "\n",
    "- leer la tabla\n",
    "- hacer traduccion de la notacion FEN a input para la GUI\n",
    "- cargar la tabla con las piezas en la GUI\n",
    "- cargar la lista de movimientos validos\n",
    "- Esperar el input del jugador\n",
    "- traducir el input a notacion uci e2e4\n",
    "- comprobar que el input es valido; *chess.Move.from_uci(\"a8a1\") in board.legal_moves*\n",
    "- si es valido actualizar la GUI\n",
    "- realizar el check de comprobaciones de tablas y resultado\n"
   ]
  },
  {
   "cell_type": "code",
   "execution_count": null,
   "metadata": {},
   "outputs": [],
   "source": []
  },
  {
   "cell_type": "code",
   "execution_count": null,
   "metadata": {},
   "outputs": [],
   "source": []
  },
  {
   "cell_type": "code",
   "execution_count": null,
   "metadata": {},
   "outputs": [],
   "source": []
  },
  {
   "cell_type": "code",
   "execution_count": null,
   "metadata": {},
   "outputs": [],
   "source": []
  },
  {
   "cell_type": "code",
   "execution_count": null,
   "metadata": {},
   "outputs": [],
   "source": [
    "# this function will create our x (board)\n",
    "def random_board(max_depth=200):\n",
    "  board = chess.Board()\n",
    "  depth = random.randrange(0, max_depth)\n",
    "\n",
    "  for _ in range(depth):\n",
    "    all_moves = list(board.legal_moves)\n",
    "    random_move = random.choice(all_moves)\n",
    "    board.push(random_move)\n",
    "    if board.is_game_over():\n",
    "      break\n",
    "\n",
    "  return board\n",
    "\n",
    "\n",
    "# this function will create our f(x) (score)\n",
    "def stockfish(board, depth):\n",
    "  with chess.engine.SimpleEngine.popen_uci('/content/stockfish') as sf:\n",
    "    result = sf.analyse(board, chess.engine.Limit(depth=depth))\n",
    "    score = result['score'].white().score()\n",
    "    return score"
   ]
  }
 ],
 "metadata": {
  "kernelspec": {
   "display_name": "Python 3.8.10 64-bit",
   "language": "python",
   "name": "python3"
  },
  "language_info": {
   "codemirror_mode": {
    "name": "ipython",
    "version": 3
   },
   "file_extension": ".py",
   "mimetype": "text/x-python",
   "name": "python",
   "nbconvert_exporter": "python",
   "pygments_lexer": "ipython3",
   "version": "3.8.10"
  },
  "orig_nbformat": 4,
  "vscode": {
   "interpreter": {
    "hash": "916dbcbb3f70747c44a77c7bcd40155683ae19c65e1c03b4aa3499c5328201f1"
   }
  }
 },
 "nbformat": 4,
 "nbformat_minor": 2
}
