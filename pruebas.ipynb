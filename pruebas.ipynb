{
 "cells": [
  {
   "cell_type": "code",
   "execution_count": 1,
   "metadata": {},
   "outputs": [],
   "source": [
    "import numpy as np\n",
    "import pandas as pd\n",
    "import matplotlib.pyplot as plt\n",
    "import seaborn as sns\n",
    "import datetime"
   ]
  },
  {
   "cell_type": "markdown",
   "metadata": {},
   "source": [
    "# Preparacion de la exploracion"
   ]
  },
  {
   "cell_type": "markdown",
   "metadata": {},
   "source": [
    "___PATH CASA___"
   ]
  },
  {
   "cell_type": "code",
   "execution_count": 4,
   "metadata": {},
   "outputs": [],
   "source": [
    "test_path = '/home/dsc/Data_Science_Projects/Chess_Engine_TFM/data/lichess_db_standard_rated_2020-02.pgn.bz2'"
   ]
  },
  {
   "cell_type": "markdown",
   "metadata": {},
   "source": [
    "___PATH TRABAJO___"
   ]
  },
  {
   "cell_type": "code",
   "execution_count": 3,
   "metadata": {},
   "outputs": [],
   "source": [
    "test_path = '/home/dsc/Data_Science_Projects/Chess_Engine_TFM/data/lichess_db_standard_rated_2020-02.pgn.bz2'"
   ]
  },
  {
   "cell_type": "markdown",
   "metadata": {},
   "source": [
    "__CODIGO PARA GENERAR SAMPLE__"
   ]
  },
  {
   "cell_type": "code",
   "execution_count": 5,
   "metadata": {},
   "outputs": [
    {
     "name": "stderr",
     "output_type": "stream",
     "text": [
      "\"bzcat\" no se reconoce como un comando interno o externo,\n",
      "programa o archivo por lotes ejecutable.\n"
     ]
    }
   ],
   "source": [
    "!bzcat {test_path} | head -n 2000 > games_sample.csv"
   ]
  },
  {
   "cell_type": "code",
   "execution_count": null,
   "metadata": {},
   "outputs": [],
   "source": [
    "sample_path = '/home/dsc/Data_Science_Projects/Chess_Engine_TFM/data/games_sample.csv'\n",
    "sample = pd.read_csv(sample_path, sep=';', header=None)"
   ]
  },
  {
   "cell_type": "markdown",
   "metadata": {},
   "source": [
    "# TRABAJO EN CURSO"
   ]
  },
  {
   "cell_type": "code",
   "execution_count": 2,
   "metadata": {},
   "outputs": [],
   "source": [
    "sample_path = 'data/games_sample.csv'\n",
    "sample = pd.read_csv(sample_path, sep=';', header=None)"
   ]
  },
  {
   "cell_type": "code",
   "execution_count": 196,
   "metadata": {},
   "outputs": [],
   "source": [
    "def read_games(sample_df, games, eval='yes', process_games='process'):\n",
    "    cols = [\n",
    "        'Event', \n",
    "        'Site', \n",
    "        'Date', \n",
    "        'Round', \n",
    "        'WhiteUser', \n",
    "        'BlackUser', \n",
    "        'Result', \n",
    "        'UTCDate', \n",
    "        'UTCTime', \n",
    "        'WHiteElo', \n",
    "        'BlackElo', \n",
    "        'WhiteRatingDiff', \n",
    "        'BlackRatingDiff', \n",
    "        'ECO', \n",
    "        'Opening', \n",
    "        'TimeControl', \n",
    "        'Termination', \n",
    "        'Game'\n",
    "        ]\n",
    "    df = pd.DataFrame(columns=cols)\n",
    "    game_row = 0\n",
    "    for i in range(0, games):\n",
    "        game = sample_df.iloc[game_row:game_row+18].transpose()\n",
    "        game.columns = cols\n",
    "        df = pd.concat([df, game])\n",
    "        game_row += 18\n",
    "    df.reset_index(drop=True, inplace=True)\n",
    "    \n",
    "\n",
    "    # Game processing\n",
    "    if process_games == 'process':\n",
    "            # Clean all columns but GAME, which needs to remain raw\n",
    "            df.loc[:, df.columns != 'Game'] = df.loc[:, df.columns != 'Game'].applymap(lambda x: x.split(' ', 1)[1].replace('\"', '')[:-1])\n",
    "            \n",
    "            # Format date column\n",
    "            df['Date'] = pd.to_datetime(df['UTCDate'])\n",
    "\n",
    "            # Find game type by time control and set a variable for it\n",
    "            game_type = pd.DataFrame(columns=['Bullet', 'Blitz', 'Rapid', 'Classical'])\n",
    "            for i in df['Event']:\n",
    "                bullet = ((i.find('Bullet')>0)*1)\n",
    "                blitz = ((i.find('Blitz')>0)*1)\n",
    "                rapid = ((i.find('Rapid')>0)*1)\n",
    "                classical = ((i.find('Classical')>0)*1)\n",
    "                gamedf = pd.DataFrame([{'Bullet':bullet,\n",
    "                                        'Blitz':blitz,\n",
    "                                        'Rapid':rapid,\n",
    "                                        'Classical':classical}])\n",
    "                game_type = pd.concat([game_type, gamedf], ignore_index=True)\n",
    "            df = df.join(game_type)\n",
    "            \n",
    "            # Final Step: Drop unuseful columns\n",
    "            df.drop(['Event', 'Site', 'ECO', 'BlackRatingDiff', 'WhiteUser', 'BlackUser', 'UTCDate', 'Round'], axis=1, inplace=True)\n",
    "    # Gets only evaluated games\n",
    "\n",
    "    if eval == 'yes':\n",
    "        df = df[df['Game'].apply(lambda x: x.find('eval')>0)==True]\n",
    "\n",
    "\n",
    "    return df"
   ]
  },
  {
   "cell_type": "code",
   "execution_count": 199,
   "metadata": {},
   "outputs": [],
   "source": [
    "test = read_games(sample, 100)"
   ]
  },
  {
   "cell_type": "code",
   "execution_count": 200,
   "metadata": {},
   "outputs": [
    {
     "data": {
      "text/html": [
       "<div>\n",
       "<style scoped>\n",
       "    .dataframe tbody tr th:only-of-type {\n",
       "        vertical-align: middle;\n",
       "    }\n",
       "\n",
       "    .dataframe tbody tr th {\n",
       "        vertical-align: top;\n",
       "    }\n",
       "\n",
       "    .dataframe thead th {\n",
       "        text-align: right;\n",
       "    }\n",
       "</style>\n",
       "<table border=\"1\" class=\"dataframe\">\n",
       "  <thead>\n",
       "    <tr style=\"text-align: right;\">\n",
       "      <th></th>\n",
       "      <th>Date</th>\n",
       "      <th>Result</th>\n",
       "      <th>UTCTime</th>\n",
       "      <th>WHiteElo</th>\n",
       "      <th>BlackElo</th>\n",
       "      <th>WhiteRatingDiff</th>\n",
       "      <th>Opening</th>\n",
       "      <th>TimeControl</th>\n",
       "      <th>Termination</th>\n",
       "      <th>Game</th>\n",
       "      <th>Bullet</th>\n",
       "      <th>Blitz</th>\n",
       "      <th>Rapid</th>\n",
       "      <th>Classical</th>\n",
       "    </tr>\n",
       "  </thead>\n",
       "  <tbody>\n",
       "    <tr>\n",
       "      <th>21</th>\n",
       "      <td>2020-02-01</td>\n",
       "      <td>1-0</td>\n",
       "      <td>00:00:07</td>\n",
       "      <td>1791</td>\n",
       "      <td>1829</td>\n",
       "      <td>+9</td>\n",
       "      <td>Queen's Gambit Refused: Marshall Defense</td>\n",
       "      <td>180+2</td>\n",
       "      <td>Normal</td>\n",
       "      <td>1. d4 { [%eval 0.25] [%clk 0:03:00] } 1... d5 ...</td>\n",
       "      <td>0</td>\n",
       "      <td>1</td>\n",
       "      <td>0</td>\n",
       "      <td>0</td>\n",
       "    </tr>\n",
       "    <tr>\n",
       "      <th>47</th>\n",
       "      <td>2020-02-01</td>\n",
       "      <td>1-0</td>\n",
       "      <td>00:00:11</td>\n",
       "      <td>2120</td>\n",
       "      <td>2104</td>\n",
       "      <td>+6</td>\n",
       "      <td>Sicilian Defense: Smith-Morra Gambit Accepted,...</td>\n",
       "      <td>300+0</td>\n",
       "      <td>Normal</td>\n",
       "      <td>1. e4 { [%eval 0.24] [%clk 0:05:00] } 1... c5 ...</td>\n",
       "      <td>0</td>\n",
       "      <td>1</td>\n",
       "      <td>0</td>\n",
       "      <td>0</td>\n",
       "    </tr>\n",
       "    <tr>\n",
       "      <th>65</th>\n",
       "      <td>2020-02-01</td>\n",
       "      <td>1-0</td>\n",
       "      <td>00:00:12</td>\n",
       "      <td>1457</td>\n",
       "      <td>1521</td>\n",
       "      <td>+9</td>\n",
       "      <td>Sicilian Defense: Old Sicilian</td>\n",
       "      <td>600+0</td>\n",
       "      <td>Normal</td>\n",
       "      <td>1. e4 { [%eval 0.24] [%clk 0:10:00] } 1... c5 ...</td>\n",
       "      <td>0</td>\n",
       "      <td>0</td>\n",
       "      <td>1</td>\n",
       "      <td>0</td>\n",
       "    </tr>\n",
       "    <tr>\n",
       "      <th>66</th>\n",
       "      <td>2020-02-01</td>\n",
       "      <td>1-0</td>\n",
       "      <td>00:00:12</td>\n",
       "      <td>2296</td>\n",
       "      <td>2303</td>\n",
       "      <td>+30</td>\n",
       "      <td>Queen's Pawn Game: London System</td>\n",
       "      <td>600+0</td>\n",
       "      <td>Normal</td>\n",
       "      <td>1. d4 { [%eval 0.25] [%clk 0:10:00] } 1... Nf6...</td>\n",
       "      <td>0</td>\n",
       "      <td>0</td>\n",
       "      <td>1</td>\n",
       "      <td>0</td>\n",
       "    </tr>\n",
       "    <tr>\n",
       "      <th>68</th>\n",
       "      <td>2020-02-01</td>\n",
       "      <td>0-1</td>\n",
       "      <td>00:00:12</td>\n",
       "      <td>1547</td>\n",
       "      <td>1560</td>\n",
       "      <td>-12</td>\n",
       "      <td>Queen's Pawn Game: Mason Attack</td>\n",
       "      <td>600+0</td>\n",
       "      <td>Normal</td>\n",
       "      <td>1. d4 { [%eval 0.25] [%clk 0:10:00] } 1... d5 ...</td>\n",
       "      <td>0</td>\n",
       "      <td>0</td>\n",
       "      <td>1</td>\n",
       "      <td>0</td>\n",
       "    </tr>\n",
       "    <tr>\n",
       "      <th>86</th>\n",
       "      <td>2020-02-01</td>\n",
       "      <td>1-0</td>\n",
       "      <td>00:00:14</td>\n",
       "      <td>2206</td>\n",
       "      <td>2305</td>\n",
       "      <td>+8</td>\n",
       "      <td>Sicilian Defense: Lasker-Pelikan Variation, Sv...</td>\n",
       "      <td>900+15</td>\n",
       "      <td>Normal</td>\n",
       "      <td>1. e4 { [%eval 0.24] [%clk 0:15:00] } 1... c5 ...</td>\n",
       "      <td>0</td>\n",
       "      <td>0</td>\n",
       "      <td>0</td>\n",
       "      <td>1</td>\n",
       "    </tr>\n",
       "  </tbody>\n",
       "</table>\n",
       "</div>"
      ],
      "text/plain": [
       "         Date Result   UTCTime WHiteElo BlackElo WhiteRatingDiff  \\\n",
       "21 2020-02-01    1-0  00:00:07     1791     1829              +9   \n",
       "47 2020-02-01    1-0  00:00:11     2120     2104              +6   \n",
       "65 2020-02-01    1-0  00:00:12     1457     1521              +9   \n",
       "66 2020-02-01    1-0  00:00:12     2296     2303             +30   \n",
       "68 2020-02-01    0-1  00:00:12     1547     1560             -12   \n",
       "86 2020-02-01    1-0  00:00:14     2206     2305              +8   \n",
       "\n",
       "                                              Opening TimeControl Termination  \\\n",
       "21           Queen's Gambit Refused: Marshall Defense       180+2      Normal   \n",
       "47  Sicilian Defense: Smith-Morra Gambit Accepted,...       300+0      Normal   \n",
       "65                     Sicilian Defense: Old Sicilian       600+0      Normal   \n",
       "66                   Queen's Pawn Game: London System       600+0      Normal   \n",
       "68                    Queen's Pawn Game: Mason Attack       600+0      Normal   \n",
       "86  Sicilian Defense: Lasker-Pelikan Variation, Sv...      900+15      Normal   \n",
       "\n",
       "                                                 Game Bullet Blitz Rapid  \\\n",
       "21  1. d4 { [%eval 0.25] [%clk 0:03:00] } 1... d5 ...      0     1     0   \n",
       "47  1. e4 { [%eval 0.24] [%clk 0:05:00] } 1... c5 ...      0     1     0   \n",
       "65  1. e4 { [%eval 0.24] [%clk 0:10:00] } 1... c5 ...      0     0     1   \n",
       "66  1. d4 { [%eval 0.25] [%clk 0:10:00] } 1... Nf6...      0     0     1   \n",
       "68  1. d4 { [%eval 0.25] [%clk 0:10:00] } 1... d5 ...      0     0     1   \n",
       "86  1. e4 { [%eval 0.24] [%clk 0:15:00] } 1... c5 ...      0     0     0   \n",
       "\n",
       "   Classical  \n",
       "21         0  \n",
       "47         0  \n",
       "65         0  \n",
       "66         0  \n",
       "68         0  \n",
       "86         1  "
      ]
     },
     "execution_count": 200,
     "metadata": {},
     "output_type": "execute_result"
    }
   ],
   "source": [
    "test"
   ]
  },
  {
   "cell_type": "code",
   "execution_count": null,
   "metadata": {},
   "outputs": [],
   "source": [
    "eval_games = pd.DataFrame()\n",
    "for chunk in fulldf:\n",
    "    chunkdf = read_games(chunk, len(chunk)/18)\n",
    "    eval_games = pd.concat([eval_games, chunkdf])\n"
   ]
  }
 ],
 "metadata": {
  "kernelspec": {
   "display_name": "Python 3.8.5 ('base')",
   "language": "python",
   "name": "python3"
  },
  "language_info": {
   "codemirror_mode": {
    "name": "ipython",
    "version": 3
   },
   "file_extension": ".py",
   "mimetype": "text/x-python",
   "name": "python",
   "nbconvert_exporter": "python",
   "pygments_lexer": "ipython3",
   "version": "3.8.5"
  },
  "orig_nbformat": 4,
  "vscode": {
   "interpreter": {
    "hash": "ad2bdc8ecc057115af97d19610ffacc2b4e99fae6737bb82f5d7fb13d2f2c186"
   }
  }
 },
 "nbformat": 4,
 "nbformat_minor": 2
}
