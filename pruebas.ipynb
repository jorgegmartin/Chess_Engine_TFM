{
 "cells": [
  {
   "cell_type": "code",
   "execution_count": 1,
   "metadata": {},
   "outputs": [],
   "source": [
    "import numpy as np\n",
    "import pandas as pd\n",
    "import matplotlib.pyplot as plt\n",
    "import seaborn as sns\n",
    "import datetime"
   ]
  },
  {
   "cell_type": "markdown",
   "metadata": {},
   "source": [
    "# Preparacion de la exploracion"
   ]
  },
  {
   "cell_type": "markdown",
   "metadata": {},
   "source": [
    "___PATH CASA___"
   ]
  },
  {
   "cell_type": "code",
   "execution_count": 4,
   "metadata": {},
   "outputs": [],
   "source": [
    "test_path = '/home/dsc/Data_Science_Projects/Chess_Engine_TFM/data/lichess_db_standard_rated_2020-02.pgn.bz2'"
   ]
  },
  {
   "cell_type": "markdown",
   "metadata": {},
   "source": [
    "___PATH TRABAJO___"
   ]
  },
  {
   "cell_type": "code",
   "execution_count": 3,
   "metadata": {},
   "outputs": [],
   "source": [
    "test_path = '/home/dsc/Data_Science_Projects/Chess_Engine_TFM/data/lichess_db_standard_rated_2020-02.pgn.bz2'"
   ]
  },
  {
   "cell_type": "markdown",
   "metadata": {},
   "source": [
    "__CODIGO PARA GENERAR SAMPLE__"
   ]
  },
  {
   "cell_type": "code",
   "execution_count": 5,
   "metadata": {},
   "outputs": [
    {
     "name": "stderr",
     "output_type": "stream",
     "text": [
      "\"bzcat\" no se reconoce como un comando interno o externo,\n",
      "programa o archivo por lotes ejecutable.\n"
     ]
    }
   ],
   "source": [
    "!bzcat {test_path} | head -n 2000 > games_sample.csv"
   ]
  },
  {
   "cell_type": "code",
   "execution_count": null,
   "metadata": {},
   "outputs": [],
   "source": [
    "sample_path = '/home/dsc/Data_Science_Projects/Chess_Engine_TFM/data/games_sample.csv'\n",
    "sample = pd.read_csv(sample_path, sep=';', header=None)"
   ]
  },
  {
   "cell_type": "markdown",
   "metadata": {},
   "source": [
    "# TRABAJO EN CURSO"
   ]
  },
  {
   "cell_type": "code",
   "execution_count": 2,
   "metadata": {},
   "outputs": [],
   "source": [
    "sample_path = 'data/games_sample.csv'\n",
    "sample = pd.read_csv(sample_path, sep=';', header=None)"
   ]
  },
  {
   "cell_type": "code",
   "execution_count": 196,
   "metadata": {},
   "outputs": [],
   "source": [
    "def read_games(sample_df, games, eval='yes', process_games='process'):\n",
    "    cols = [\n",
    "        'Event', \n",
    "        'Site', \n",
    "        'Date', \n",
    "        'Round', \n",
    "        'WhiteUser', \n",
    "        'BlackUser', \n",
    "        'Result', \n",
    "        'UTCDate', \n",
    "        'UTCTime', \n",
    "        'WHiteElo', \n",
    "        'BlackElo', \n",
    "        'WhiteRatingDiff', \n",
    "        'BlackRatingDiff', \n",
    "        'ECO', \n",
    "        'Opening', \n",
    "        'TimeControl', \n",
    "        'Termination', \n",
    "        'Game'\n",
    "        ]\n",
    "    df = pd.DataFrame(columns=cols)\n",
    "    game_row = 0\n",
    "    for i in range(0, games):\n",
    "        game = sample_df.iloc[game_row:game_row+18].transpose()\n",
    "        game.columns = cols\n",
    "        df = pd.concat([df, game])\n",
    "        game_row += 18\n",
    "    df.reset_index(drop=True, inplace=True)\n",
    "    \n",
    "\n",
    "    # Game processing\n",
    "    if process_games == 'process':\n",
    "            # Clean all columns but GAME, which needs to remain raw\n",
    "            df.loc[:, df.columns != 'Game'] = df.loc[:, df.columns != 'Game'].applymap(lambda x: x.split(' ', 1)[1].replace('\"', '')[:-1])\n",
    "            \n",
    "            # Format date column\n",
    "            df['Date'] = pd.to_datetime(df['UTCDate'])\n",
    "\n",
    "            # Find game type by time control and set a variable for it\n",
    "            game_type = pd.DataFrame(columns=['Bullet', 'Blitz', 'Rapid', 'Classical'])\n",
    "            for i in df['Event']:\n",
    "                bullet = ((i.find('Bullet')>0)*1)\n",
    "                blitz = ((i.find('Blitz')>0)*1)\n",
    "                rapid = ((i.find('Rapid')>0)*1)\n",
    "                classical = ((i.find('Classical')>0)*1)\n",
    "                gamedf = pd.DataFrame([{'Bullet':bullet,\n",
    "                                        'Blitz':blitz,\n",
    "                                        'Rapid':rapid,\n",
    "                                        'Classical':classical}])\n",
    "                game_type = pd.concat([game_type, gamedf], ignore_index=True)\n",
    "            df = df.join(game_type)\n",
    "            \n",
    "            # Final Step: Drop unuseful columns\n",
    "            df.drop(['Event', 'Site', 'ECO', 'BlackRatingDiff', 'WhiteUser', 'BlackUser', 'UTCDate', 'Round'], axis=1, inplace=True)\n",
    "    # Gets only evaluated games\n",
    "\n",
    "    if eval == 'yes':\n",
    "        df = df[df['Game'].apply(lambda x: x.find('eval')>0)==True]\n",
    "\n",
    "\n",
    "    return df"
   ]
  },
  {
   "cell_type": "code",
   "execution_count": 199,
   "metadata": {},
   "outputs": [],
   "source": [
    "test = read_games(sample, 100)"
   ]
  },
  {
   "cell_type": "code",
   "execution_count": null,
   "metadata": {},
   "outputs": [],
   "source": [
    "test.to_csv('/data/games_processed_sample.csv')"
   ]
  },
  {
   "cell_type": "code",
   "execution_count": null,
   "metadata": {},
   "outputs": [],
   "source": [
    "eval_games = pd.DataFrame()\n",
    "for chunk in fulldf:\n",
    "    chunkdf = read_games(chunk, len(chunk)/18)\n",
    "    eval_games = pd.concat([eval_games, chunkdf])\n"
   ]
  }
 ],
 "metadata": {
  "kernelspec": {
   "display_name": "Python 3.8.5 ('base')",
   "language": "python",
   "name": "python3"
  },
  "language_info": {
   "codemirror_mode": {
    "name": "ipython",
    "version": 3
   },
   "file_extension": ".py",
   "mimetype": "text/x-python",
   "name": "python",
   "nbconvert_exporter": "python",
   "pygments_lexer": "ipython3",
   "version": "3.8.5"
  },
  "orig_nbformat": 4,
  "vscode": {
   "interpreter": {
    "hash": "ad2bdc8ecc057115af97d19610ffacc2b4e99fae6737bb82f5d7fb13d2f2c186"
   }
  }
 },
 "nbformat": 4,
 "nbformat_minor": 2
}
