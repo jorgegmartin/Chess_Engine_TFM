{
 "cells": [
  {
   "cell_type": "code",
   "execution_count": 1,
   "metadata": {},
   "outputs": [],
   "source": [
    "import chess\n",
    "import chess.engine\n",
    "import random\n",
    "import numpy as np"
   ]
  },
  {
   "cell_type": "code",
   "execution_count": 2,
   "metadata": {},
   "outputs": [],
   "source": [
    "# this function will create our x (board)\n",
    "def random_board_generator(max_depth=200):\n",
    "  board = chess.Board()\n",
    "  depth = random.randrange(0, max_depth)\n",
    "\n",
    "  for _ in range(depth):\n",
    "    all_moves = list(board.legal_moves)\n",
    "    random_move = random.choice(all_moves)\n",
    "    board.push(random_move)\n",
    "    if board.is_game_over():\n",
    "      break\n",
    "\n",
    "  return board"
   ]
  },
  {
   "cell_type": "code",
   "execution_count": 3,
   "metadata": {},
   "outputs": [],
   "source": [
    "# this function will create our f(x) (score)\n",
    "def stockfish(board, engine, depth):\n",
    "#  engine = chess.engine.SimpleEngine.popen_uci(\"/home/dsc/Data_Science_Projects/Chess_Engine_TFM/engine/stockfish_15.1_linux_x64_bmi2/stockfish_15.1_x64_bmi2\")\n",
    "#  engine = chess.engine.SimpleEngine.popen_uci(r\"C:\\Users\\Usuario\\Desktop\\Data Science Projects\\Chess_Engine_TFM\\engine\\stockfish15\\stockfish-windows-2022-x86-64-avx2.exe\")\n",
    "  result = engine.analyse(board, chess.engine.Limit(depth=depth))\n",
    "  score = result['score'].white().score()\n",
    "\n",
    "  return score"
   ]
  },
  {
   "cell_type": "code",
   "execution_count": 4,
   "metadata": {},
   "outputs": [],
   "source": [
    "# example: h3 -> 17\n",
    "def square_to_index(square):\n",
    "  squares_index = {'a': 0,\n",
    "                   'b': 1,\n",
    "                   'c': 2,\n",
    "                   'd': 3,\n",
    "                   'e': 4,\n",
    "                   'f': 5,\n",
    "                   'g': 6,\n",
    "                   'h': 7}\n",
    "                   \n",
    "  letter = chess.square_name(square)\n",
    "  return 8 - int(letter[1]), squares_index[letter[0]]\n",
    "\n",
    "\n",
    "def split_dims(board):\n",
    "  # this is the 3d matrix\n",
    "  board3d = np.zeros((14, 8, 8), dtype=np.int8)\n",
    "\n",
    "  # here we add the pieces's view on the matrix\n",
    "  for piece in chess.PIECE_TYPES:\n",
    "    for square in board.pieces(piece, chess.WHITE):\n",
    "      idx = np.unravel_index(square, (8, 8))\n",
    "      board3d[piece - 1][7 - idx[0]][idx[1]] = 1\n",
    "    for square in board.pieces(piece, chess.BLACK):\n",
    "      idx = np.unravel_index(square, (8, 8))\n",
    "      board3d[piece + 5][7 - idx[0]][idx[1]] = 1\n",
    "\n",
    "  # add attacks and valid moves too\n",
    "  # so the network knows what is being attacked\n",
    "  aux = board.turn\n",
    "  board.turn = chess.WHITE\n",
    "  for move in board.legal_moves:\n",
    "      i, j = square_to_index(move.to_square)\n",
    "      board3d[12][i][j] = 1\n",
    "  board.turn = chess.BLACK\n",
    "  for move in board.legal_moves:\n",
    "      i, j = square_to_index(move.to_square)\n",
    "      board3d[13][i][j] = 1\n",
    "  board.turn = aux\n",
    "\n",
    "  return board3d"
   ]
  },
  {
   "cell_type": "code",
   "execution_count": 9,
   "metadata": {},
   "outputs": [],
   "source": [
    "def dataset_generator(n_games, save_path, engine_path, stockfish_depth=10):\n",
    "    board_matrix_list =[]\n",
    "    eval_list = []\n",
    "    fen_list = []\n",
    "\n",
    "    engine = chess.engine.SimpleEngine.popen_uci(engine_path)\n",
    "\n",
    "    for i in range(0, n_games):\n",
    "        board = random_board_generator()\n",
    "        matrix = split_dims(board)\n",
    "        eval = stockfish(board, engine=engine, depth=stockfish_depth)\n",
    "        fen = board.fen()\n",
    "        board_matrix_list.append(matrix)\n",
    "        eval_list.append(eval)\n",
    "        fen_list.append(fen)\n",
    "        \n",
    "        if int(i) % 1000 == 0: print(i)\n",
    "\n",
    "    np.savez(save_path, board_matrix=board_matrix_list, eval=eval_list, board_fen=fen_list)\n",
    "    engine.quit()\n"
   ]
  },
  {
   "cell_type": "code",
   "execution_count": 11,
   "metadata": {},
   "outputs": [
    {
     "name": "stdout",
     "output_type": "stream",
     "text": [
      "0\n",
      "1000\n",
      "2000\n",
      "3000\n",
      "4000\n"
     ]
    }
   ],
   "source": [
    "outfile = r'C:\\Users\\Usuario\\Desktop\\Data Science Projects\\Chess_Engine_TFM\\engine\\random_boards_d3.npz'\n",
    "stockfish_path = (r\"C:\\Users\\Usuario\\Desktop\\Data Science Projects\\Chess_Engine_TFM\\engine\\stockfish15\\stockfish-windows-2022-x86-64-avx2.exe\")\n",
    "dataset_generator(1_500_000, save_path=outfile, engine_path=stockfish_path, stockfish_depth=3)"
   ]
  },
  {
   "cell_type": "code",
   "execution_count": null,
   "metadata": {},
   "outputs": [
    {
     "name": "stdout",
     "output_type": "stream",
     "text": [
      "0\n",
      "1000\n",
      "2000\n",
      "3000\n",
      "4000\n"
     ]
    }
   ],
   "source": [
    "outfile = r'C:\\Users\\Usuario\\Desktop\\Data Science Projects\\Chess_Engine_TFM\\engine\\random_boards_d10.npz'\n",
    "stockfish_path = (r\"C:\\Users\\Usuario\\Desktop\\Data Science Projects\\Chess_Engine_TFM\\engine\\stockfish15\\stockfish-windows-2022-x86-64-avx2.exe\")\n",
    "dataset_generator(1_500_000, save_path=outfile, engine_path=stockfish_path, stockfish_depth=10)"
   ]
  },
  {
   "cell_type": "code",
   "execution_count": null,
   "metadata": {},
   "outputs": [
    {
     "name": "stdout",
     "output_type": "stream",
     "text": [
      "0\n",
      "1000\n",
      "2000\n",
      "3000\n",
      "4000\n"
     ]
    }
   ],
   "source": [
    "outfile = r'C:\\Users\\Usuario\\Desktop\\Data Science Projects\\Chess_Engine_TFM\\engine\\random_boards_d6.npz'\n",
    "stockfish_path = (r\"C:\\Users\\Usuario\\Desktop\\Data Science Projects\\Chess_Engine_TFM\\engine\\stockfish15\\stockfish-windows-2022-x86-64-avx2.exe\")\n",
    "dataset_generator(1_500_000, save_path=outfile, engine_path=stockfish_path, stockfish_depth=6)"
   ]
  },
  {
   "cell_type": "code",
   "execution_count": null,
   "metadata": {},
   "outputs": [],
   "source": []
  }
 ],
 "metadata": {
  "kernelspec": {
   "display_name": "chess",
   "language": "python",
   "name": "python3"
  },
  "language_info": {
   "codemirror_mode": {
    "name": "ipython",
    "version": 3
   },
   "file_extension": ".py",
   "mimetype": "text/x-python",
   "name": "python",
   "nbconvert_exporter": "python",
   "pygments_lexer": "ipython3",
   "version": "3.8.15"
  },
  "orig_nbformat": 4,
  "vscode": {
   "interpreter": {
    "hash": "93eda801d5fd29625c3423228d2952e23befdd4fb970236ec85dd514a35765ab"
   }
  }
 },
 "nbformat": 4,
 "nbformat_minor": 2
}
